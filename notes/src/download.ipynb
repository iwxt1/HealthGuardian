{
 "cells": [
  {
   "cell_type": "code",
   "execution_count": 20,
   "metadata": {},
   "outputs": [],
   "source": [
    "import torch\n",
    "import os\n",
    "from modelscope.hub.file_download import model_file_download\n",
    "os.environ['MODELSCOPE_CACHE'] = '../models'"
   ]
  },
  {
   "cell_type": "code",
   "execution_count": 21,
   "metadata": {},
   "outputs": [
    {
     "name": "stderr",
     "output_type": "stream",
     "text": [
      "2024-03-31 17:03:43,039 - modelscope - INFO - Use user-specified model revision: v1.1.0\n",
      "Downloading: 100%|██████████| 851/851 [00:00<00:00, 851kB/s]\n"
     ]
    },
    {
     "data": {
      "text/plain": [
       "'../models\\\\Shanghai_AI_Laboratory\\\\internlm2-chat-7b\\\\config.json'"
      ]
     },
     "execution_count": 21,
     "metadata": {},
     "output_type": "execute_result"
    }
   ],
   "source": [
    "model_file_download(model_id='Shanghai_AI_Laboratory/internlm2-chat-7b', file_path='config.json', revision='v1.1.0')"
   ]
  },
  {
   "cell_type": "code",
   "execution_count": null,
   "metadata": {},
   "outputs": [],
   "source": []
  }
 ],
 "metadata": {
  "kernelspec": {
   "display_name": "base",
   "language": "python",
   "name": "python3"
  },
  "language_info": {
   "codemirror_mode": {
    "name": "ipython",
    "version": 3
   },
   "file_extension": ".py",
   "mimetype": "text/x-python",
   "name": "python",
   "nbconvert_exporter": "python",
   "pygments_lexer": "ipython3",
   "version": "3.10.8"
  }
 },
 "nbformat": 4,
 "nbformat_minor": 2
}
